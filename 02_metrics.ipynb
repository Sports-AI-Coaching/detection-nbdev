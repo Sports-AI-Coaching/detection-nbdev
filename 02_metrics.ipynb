{
 "cells": [
  {
   "cell_type": "code",
   "execution_count": null,
   "id": "mysterious-bikini",
   "metadata": {},
   "outputs": [],
   "source": [
    "# default_exp metrics"
   ]
  },
  {
   "cell_type": "code",
   "execution_count": null,
   "id": "other-parent",
   "metadata": {},
   "outputs": [],
   "source": [
    "#hide\n",
    "%load_ext autoreload\n",
    "%autoreload 2\n",
    "%load_ext tensorboard"
   ]
  },
  {
   "cell_type": "markdown",
   "id": "indoor-forum",
   "metadata": {},
   "source": [
    "# metrics\n",
    "\n",
    "> API details."
   ]
  },
  {
   "cell_type": "code",
   "execution_count": null,
   "id": "unlimited-topic",
   "metadata": {},
   "outputs": [],
   "source": [
    "#hide\n",
    "from nbdev.showdoc import *\n",
    "from fastcore.test import *"
   ]
  },
  {
   "cell_type": "code",
   "execution_count": null,
   "id": "surgical-defendant",
   "metadata": {},
   "outputs": [],
   "source": [
    "#export\n",
    "import torch\n",
    "from scipy.optimize import linear_sum_assignment"
   ]
  },
  {
   "cell_type": "code",
   "execution_count": null,
   "id": "choice-formula",
   "metadata": {},
   "outputs": [],
   "source": [
    "#export\n",
    "def bbox_iou(boxA, boxB):\n",
    "    # determine the (x, y)-coordinates of the intersection rectangle\n",
    "    xA = max(boxA[0], boxB[0])\n",
    "    yA = max(boxA[1], boxB[1])\n",
    "    xB = min(boxA[2], boxB[2])\n",
    "    yB = min(boxA[3], boxB[3])\n",
    "    # compute the area of intersection rectangle\n",
    "    interArea = max(0, xB - xA + 1) * max(0, yB - yA + 1)\n",
    "    # compute the area of both the prediction and ground-truth\n",
    "    # rectangles\n",
    "    boxAArea = (boxA[2] - boxA[0] + 1) * (boxA[3] - boxA[1] + 1)\n",
    "    boxBArea = (boxB[2] - boxB[0] + 1) * (boxB[3] - boxB[1] + 1)\n",
    "    # compute the intersection over union by taking the intersection\n",
    "    # area and dividing it by the sum of prediction + ground-truth\n",
    "    # areas - the interesection area\n",
    "    iou = interArea / float(boxAArea + boxBArea - interArea)\n",
    "    # return the intersection over union value\n",
    "    return iou"
   ]
  },
  {
   "cell_type": "code",
   "execution_count": null,
   "id": "minus-clark",
   "metadata": {},
   "outputs": [
    {
     "name": "stderr",
     "output_type": "stream",
     "text": [
      "Clipping input data to the valid range for imshow with RGB data ([0..1] for floats or [0..255] for integers).\n"
     ]
    },
    {
     "name": "stdout",
     "output_type": "stream",
     "text": [
      "label: tensor([ 18, 121, 138, 142])\n",
      "bbox: tensor([ 63,  19, 150, 132])\n",
      "IoU: tensor(0.0774)\n"
     ]
    },
    {
     "data": {
      "image/png": "[encoded data removed]",
      "text/plain": [
       "<Figure size 432x288 with 1 Axes>"
      ]
     },
     "metadata": {
      "needs_background": "light"
     },
     "output_type": "display_data"
    }
   ],
   "source": [
    "from detection_nbdev.utils import random_bbox, visualize\n",
    "import numpy as np\n",
    "\n",
    "bboxA = random_bbox()\n",
    "bboxB = random_bbox()\n",
    "iou = bbox_iou(bboxA, bboxB)\n",
    "\n",
    "print('label:', bboxA)\n",
    "print('bbox:', bboxB)\n",
    "print('IoU:', iou)\n",
    "\n",
    "visualize(\n",
    "    np.zeros((224,224,3)),\n",
    "    [bboxA, bboxB],\n",
    "    [0, 1],\n",
    "    {0:'bboxA', 1:'bboxB'},\n",
    ")"
   ]
  },
  {
   "cell_type": "code",
   "execution_count": null,
   "id": "guided-consumption",
   "metadata": {},
   "outputs": [],
   "source": [
    "#export\n",
    "def hungarian_loss(boxesA, boxesB, loss_func=bbox_iou, maximize=True):\n",
    "    n = max(len(boxesA), len(boxesB))\n",
    "    cost_matrix = torch.zeros((n,n))\n",
    "            \n",
    "    for i, boxA in enumerate(boxesA):\n",
    "        for j, boxB in enumerate(boxesB):\n",
    "            if boxA is None or boxB is None:\n",
    "                cost_matrix[i,j] = int(not maximize)\n",
    "            else:\n",
    "                cost_matrix[i, j] = bbox_iou(boxA, boxB)\n",
    "    \n",
    "    row_ind, col_ind = linear_sum_assignment(cost_matrix, maximize=maximize)\n",
    "    return cost_matrix[row_ind, col_ind].mean()"
   ]
  },
  {
   "cell_type": "code",
   "execution_count": null,
   "id": "subject-playing",
   "metadata": {},
   "outputs": [
    {
     "name": "stderr",
     "output_type": "stream",
     "text": [
      "Clipping input data to the valid range for imshow with RGB data ([0..1] for floats or [0..255] for integers).\n"
     ]
    },
    {
     "name": "stdout",
     "output_type": "stream",
     "text": [
      "Hungarian IoU Loss: tensor(0.0764)\n"
     ]
    },
    {
     "data": {
      "image/png": "[encoded data removed]",
      "text/plain": [
       "<Figure size 432x288 with 1 Axes>"
      ]
     },
     "metadata": {
      "needs_background": "light"
     },
     "output_type": "display_data"
    }
   ],
   "source": [
    "bboxesA = [random_bbox() for _ in range(2)]\n",
    "bboxesB = [random_bbox() for _ in range(3)]\n",
    "\n",
    "loss_iou = hungarian_loss(bboxesA, bboxesB, bbox_iou, maximize=True)\n",
    "\n",
    "print('Hungarian IoU Loss:', loss_iou)\n",
    "visualize(\n",
    "    np.zeros((224,224,3)),\n",
    "    bboxesA + bboxesB,\n",
    "    [0]*len(bboxesA) +  [1]*len(bboxesB),\n",
    "    {0:'bboxA', 1:'bboxB'},\n",
    ")"
   ]
  },
  {
   "cell_type": "code",
   "execution_count": null,
   "id": "continuing-supplier",
   "metadata": {},
   "outputs": [],
   "source": []
  }
 ],
 "metadata": {
  "kernelspec": {
   "display_name": "Python 3",
   "language": "python",
   "name": "python3"
  }
 },
 "nbformat": 4,
 "nbformat_minor": 5
}

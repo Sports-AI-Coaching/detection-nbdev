{
 "cells": [
  {
   "cell_type": "code",
   "execution_count": null,
   "id": "innovative-waterproof",
   "metadata": {},
   "outputs": [],
   "source": [
    "# default_exp utils"
   ]
  },
  {
   "cell_type": "code",
   "execution_count": null,
   "id": "hired-scientist",
   "metadata": {},
   "outputs": [],
   "source": [
    "#hide\n",
    "%load_ext autoreload\n",
    "%autoreload 2\n",
    "%load_ext tensorboard"
   ]
  },
  {
   "cell_type": "markdown",
   "id": "nominated-yellow",
   "metadata": {},
   "source": [
    "# utils\n",
    "\n",
    "> API details."
   ]
  },
  {
   "cell_type": "code",
   "execution_count": null,
   "id": "numerous-omaha",
   "metadata": {},
   "outputs": [],
   "source": [
    "#hide\n",
    "from nbdev.showdoc import *\n",
    "from fastcore.test import *"
   ]
  },
  {
   "cell_type": "code",
   "execution_count": null,
   "id": "respective-jacket",
   "metadata": {},
   "outputs": [],
   "source": [
    "#export\n",
    "import torch\n",
    "import random\n",
    "import numpy as np\n",
    "import matplotlib.pyplot as plt\n",
    "import cv2"
   ]
  },
  {
   "cell_type": "code",
   "execution_count": null,
   "id": "powered-image",
   "metadata": {},
   "outputs": [],
   "source": [
    "#export\n",
    "def random_bbox(max_size=224):\n",
    "    sep1 = random.randint(1, max_size-1)\n",
    "    sep2 = random.randint(sep1, max_size)\n",
    "    return torch.cat([\n",
    "    torch.randint(low=0, high=sep1, size=(1,2)),\n",
    "    torch.randint(low=sep1, high=sep2, size=(1,2))]).flatten()"
   ]
  },
  {
   "cell_type": "code",
   "execution_count": null,
   "id": "visible-dutch",
   "metadata": {},
   "outputs": [
    {
     "name": "stdout",
     "output_type": "stream",
     "text": [
      "tensor([ 4, 32, 62, 91])\n"
     ]
    }
   ],
   "source": [
    "bbox = random_bbox()\n",
    "print(bbox)"
   ]
  },
  {
   "cell_type": "code",
   "execution_count": null,
   "id": "collected-kinase",
   "metadata": {},
   "outputs": [],
   "source": [
    "#export\n",
    "def visualize_bbox(img, bbox, class_name, color=(255, 0, 0) , thickness=2):\n",
    "    \"\"\"Visualizes a single bounding box on the image\"\"\"\n",
    "    BOX_COLOR = (255, 0, 0) # Red\n",
    "    TEXT_COLOR = (255, 255, 255) # White\n",
    "\n",
    "    x_min, y_min, x_max, y_max = bbox\n",
    "\n",
    "    cv2.rectangle(img, (x_min, y_min), (x_max, y_max), color=color, thickness=thickness)\n",
    "\n",
    "    ((text_width, text_height), _) = cv2.getTextSize(class_name, cv2.FONT_HERSHEY_SIMPLEX, 0.35, 1)    \n",
    "    cv2.rectangle(img, (x_min, y_min - int(1.3 * text_height)), (x_min + text_width, y_min), BOX_COLOR, -1)\n",
    "    cv2.putText(\n",
    "        img,\n",
    "        text=class_name,\n",
    "        org=(x_min, y_min - int(0.3 * text_height)),\n",
    "        fontFace=cv2.FONT_HERSHEY_SIMPLEX,\n",
    "        fontScale=0.35, \n",
    "        color=TEXT_COLOR, \n",
    "        lineType=cv2.LINE_AA,\n",
    "    )\n",
    "    return img\n",
    "\n",
    "def visualize(image, bboxes, category_ids, category_id_to_name, ax=None):\n",
    "    if ax is None:\n",
    "        fig, ax = plt.subplots()\n",
    "    img = image.copy()\n",
    "    for bbox, category_id in zip(bboxes, category_ids):\n",
    "        if bbox != []:\n",
    "            class_name = category_id_to_name[category_id]\n",
    "            img = visualize_bbox(img, bbox, class_name)\n",
    "    ax.axis('off')\n",
    "    ax.imshow(img)"
   ]
  },
  {
   "cell_type": "code",
   "execution_count": null,
   "id": "third-taxation",
   "metadata": {},
   "outputs": [
    {
     "name": "stderr",
     "output_type": "stream",
     "text": [
      "Clipping input data to the valid range for imshow with RGB data ([0..1] for floats or [0..255] for integers).\n"
     ]
    },
    {
     "data": {
      "image/png": "[encoded data removed]",
      "text/plain": [
       "<Figure size 432x288 with 1 Axes>"
      ]
     },
     "metadata": {
      "needs_background": "light"
     },
     "output_type": "display_data"
    }
   ],
   "source": [
    "visualize(\n",
    "    np.zeros((224,224,3)),\n",
    "    [bbox],\n",
    "    [0],\n",
    "    {0:'BOX'},\n",
    ")"
   ]
  }
 ],
 "metadata": {
  "kernelspec": {
   "display_name": "Python 3",
   "language": "python",
   "name": "python3"
  }
 },
 "nbformat": 4,
 "nbformat_minor": 5
}
